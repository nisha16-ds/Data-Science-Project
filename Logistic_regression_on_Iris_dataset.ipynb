{
  "nbformat": 4,
  "nbformat_minor": 0,
  "metadata": {
    "colab": {
      "provenance": []
    },
    "kernelspec": {
      "name": "python3",
      "display_name": "Python 3"
    },
    "language_info": {
      "name": "python"
    }
  },
  "cells": [
    {
      "cell_type": "code",
      "source": [
        "import numpy as np\n",
        "import pandas as pd\n",
        "from sklearn.model_selection import train_test_split\n",
        "from sklearn.neighbors import KNeighborsClassifier\n",
        "from sklearn.linear_model import LogisticRegression\n",
        "from sklearn.metrics import confusion_matrix\n",
        "from sklearn.metrics import accuracy_score\n",
        "from sklearn.metrics import r2_score\n",
        "from sklearn.metrics import classification_report\n",
        "from sklearn.metrics import precision_score"
      ],
      "metadata": {
        "id": "gvygSMm3mkV-"
      },
      "execution_count": 2,
      "outputs": []
    },
    {
      "cell_type": "code",
      "source": [
        "df = pd.read_csv('/content/IRIS dataset for KNN.csv')\n",
        "# print(df)"
      ],
      "metadata": {
        "id": "nu-7u_kemm7Z"
      },
      "execution_count": 4,
      "outputs": []
    },
    {
      "cell_type": "code",
      "source": [
        "x = df[['SepalLengthCm','SepalWidthCm','PetalLengthCm']].values\n",
        "y = df['Species'].values\n",
        "# print(x,y)"
      ],
      "metadata": {
        "id": "U5Ant-hcnNDR"
      },
      "execution_count": 5,
      "outputs": []
    },
    {
      "cell_type": "code",
      "source": [
        "# training,testing\n",
        "x_train,x_test,y_train,y_test=train_test_split(x,y,test_size=0.20,random_state=0)\n",
        "knn = KNeighborsClassifier(n_neighbors=3)\n",
        "knn.fit(x_train,y_train)\n",
        "y_pred = knn.predict(x_test)\n",
        "# print(y_pred)\n",
        "# print(y_test)"
      ],
      "metadata": {
        "id": "3QsedtWPnSUp"
      },
      "execution_count": 7,
      "outputs": []
    },
    {
      "cell_type": "code",
      "source": [
        "# Logreg = LogisticRegression()\n",
        "# # fit the model with data\n",
        "# Logreg.fit(x_train,y_train)\n",
        "# # prediction\n",
        "# y_pred=Logreg.predict(x_test)\n",
        "# print(y_pred)\n",
        "# print(y_test)"
      ],
      "metadata": {
        "id": "dRxXP6dGnXkn"
      },
      "execution_count": 8,
      "outputs": []
    },
    {
      "cell_type": "code",
      "source": [
        "confussion_metrics=confusion_matrix(y_test,y_pred)\n",
        "accuracy=accuracy_score(y_test,y_pred)\n",
        "print(\"accuracy\",accuracy)\n",
        "# classification_report = classification_report(y_test,y_pred)\n",
        "# print(classification_report)\n",
        "precision = precision_score(y_test,y_pred, average='macro')\n",
        "print(\"precision\",precision)\n",
        "# r2 = r2_score(y_test,y_pred)\n",
        "# print(r2)\n",
        "print(\"Confusion Metrics :\" )\n",
        "print(confussion_metrics)"
      ],
      "metadata": {
        "colab": {
          "base_uri": "https://localhost:8080/"
        },
        "id": "7_exsoWuncuw",
        "outputId": "f440d74b-b907-425f-c858-c05c63aeddc9"
      },
      "execution_count": 9,
      "outputs": [
        {
          "output_type": "stream",
          "name": "stdout",
          "text": [
            "accuracy 0.9333333333333333\n",
            "precision 0.9166666666666666\n",
            "Confusion Metrics :\n",
            "[[11  0  0]\n",
            " [ 0 11  2]\n",
            " [ 0  0  6]]\n"
          ]
        }
      ]
    }
  ]
}