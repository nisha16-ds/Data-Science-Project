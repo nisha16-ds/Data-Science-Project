{
  "nbformat": 4,
  "nbformat_minor": 0,
  "metadata": {
    "colab": {
      "provenance": []
    },
    "kernelspec": {
      "name": "python3",
      "display_name": "Python 3"
    },
    "language_info": {
      "name": "python"
    }
  },
  "cells": [
    {
      "cell_type": "code",
      "execution_count": null,
      "metadata": {
        "id": "wMjpOTcjKoej"
      },
      "outputs": [],
      "source": [
        "import pandas as pd\n",
        "import numpy as np\n",
        "from sklearn.model_selection import train_test_split\n",
        "from sklearn.neighbors import KNeighborsClassifier\n"
      ]
    },
    {
      "cell_type": "code",
      "source": [
        "data=pd.read_excel(\"/content/knn.xlsx\")\n",
        "# data.head()\n",
        "\n",
        "x=data[[\"weight(x)\",\"height(y)\"]].values\n",
        "y=data[\"Class\"].values\n",
        "# print(x,y)\n"
      ],
      "metadata": {
        "id": "SNtM3K0cLBWi"
      },
      "execution_count": null,
      "outputs": []
    },
    {
      "cell_type": "code",
      "source": [
        "knn=KNeighborsClassifier(n_neighbors=3)\n",
        "knn.fit(x,y)\n",
        "data=np.array([[50,160]])\n",
        "prediction=knn.predict(data)\n",
        "print(prediction)\n"
      ],
      "metadata": {
        "colab": {
          "base_uri": "https://localhost:8080/"
        },
        "id": "kcf7D0dbVwjt",
        "outputId": "20685c4b-4d98-41c7-db2e-f23663d00f4f"
      },
      "execution_count": null,
      "outputs": [
        {
          "output_type": "stream",
          "name": "stdout",
          "text": [
            "['normal']\n"
          ]
        }
      ]
    }
  ]
}